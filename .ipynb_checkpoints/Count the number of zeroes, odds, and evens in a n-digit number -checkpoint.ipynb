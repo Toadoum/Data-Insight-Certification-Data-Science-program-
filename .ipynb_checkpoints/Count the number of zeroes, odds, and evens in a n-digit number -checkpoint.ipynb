{
 "cells": [
  {
   "cell_type": "code",
   "execution_count": 1,
   "id": "416a6380",
   "metadata": {
    "scrolled": true
   },
   "outputs": [
    {
     "name": "stdout",
     "output_type": "stream",
     "text": [
      "Enter a n-digits number please: 021369495970340464277\n",
      "zero: 3\n",
      "even: 8\n",
      "odd: 10\n"
     ]
    }
   ],
   "source": [
    "def digits_count(digits):\n",
    "    \"\"\" Takes a list of single digits and returns the \n",
    "        count of zeros, evens and odds\n",
    "    \"\"\"\n",
    "    zero = 0\n",
    "    even= 0\n",
    "    odd= 0\n",
    "    for i in digits:\n",
    "        if i == 0:\n",
    "            zero += 1\n",
    "        elif i % 2 == 0:\n",
    "            even += 1\n",
    "        else:\n",
    "            odd += 1\n",
    "    return zero, even, odd\n",
    "\n",
    "digit_input = input(\"Enter a n-digits number please: \")\n",
    "digits = [int(i) for i in digit_input] \n",
    "\n",
    "zero, even, odd = digits_count(digits)\n",
    "\n",
    "print('zero: %d' % zero)\n",
    "print('even: %d' % even)\n",
    "print('odd: %d' % odd)"
   ]
  },
  {
   "cell_type": "code",
   "execution_count": 11,
   "id": "f4e1cafd",
   "metadata": {},
   "outputs": [
    {
     "ename": "SyntaxError",
     "evalue": "invalid syntax (<ipython-input-11-bf3e145d4ed0>, line 21)",
     "output_type": "error",
     "traceback": [
      "\u001b[0;36m  File \u001b[0;32m\"<ipython-input-11-bf3e145d4ed0>\"\u001b[0;36m, line \u001b[0;32m21\u001b[0m\n\u001b[0;31m    print digit_count(integer)\u001b[0m\n\u001b[0m          ^\u001b[0m\n\u001b[0;31mSyntaxError\u001b[0m\u001b[0;31m:\u001b[0m invalid syntax\n"
     ]
    }
   ],
   "source": [
    "integer = int(raw_input(\"Enter a ten-digit number please: \"))\n",
    "\n",
    "zero_count = 0\n",
    "even_count = 0\n",
    "odd_count = 0\n",
    "\n",
    "def digit_count(x):\n",
    "    while x > 0:\n",
    "        if x % 10 == 0:\n",
    "            zero_count += 1\n",
    "        elif x % 2 == 0:\n",
    "            even_count += 1\n",
    "        else:\n",
    "            odd_count += 1\n",
    "        x / 10\n",
    "\n",
    "    print (zero_count)\n",
    "    print (even_count)\n",
    "    print (odd_count)\n",
    "\n",
    "print digit_count(integer)"
   ]
  },
  {
   "cell_type": "code",
   "execution_count": 6,
   "id": "f17a84d3",
   "metadata": {},
   "outputs": [
    {
     "ename": "NameError",
     "evalue": "name 'raw_input' is not defined",
     "output_type": "error",
     "traceback": [
      "\u001b[0;31m---------------------------------------------------------------------------\u001b[0m",
      "\u001b[0;31mNameError\u001b[0m                                 Traceback (most recent call last)",
      "\u001b[0;32m<ipython-input-6-aeddd652888c>\u001b[0m in \u001b[0;36m<module>\u001b[0;34m\u001b[0m\n\u001b[1;32m     15\u001b[0m     \u001b[0;32mreturn\u001b[0m \u001b[0mzero_count\u001b[0m\u001b[0;34m,\u001b[0m \u001b[0meven_count\u001b[0m\u001b[0;34m,\u001b[0m \u001b[0modd_count\u001b[0m\u001b[0;34m\u001b[0m\u001b[0;34m\u001b[0m\u001b[0m\n\u001b[1;32m     16\u001b[0m \u001b[0;34m\u001b[0m\u001b[0m\n\u001b[0;32m---> 17\u001b[0;31m \u001b[0minp\u001b[0m \u001b[0;34m=\u001b[0m \u001b[0mraw_input\u001b[0m\u001b[0;34m(\u001b[0m\u001b[0;34m\"Enter a ten-digit number please: \"\u001b[0m\u001b[0;34m)\u001b[0m\u001b[0;34m\u001b[0m\u001b[0;34m\u001b[0m\u001b[0m\n\u001b[0m\u001b[1;32m     18\u001b[0m \u001b[0mdigits\u001b[0m \u001b[0;34m=\u001b[0m \u001b[0;34m[\u001b[0m\u001b[0mint\u001b[0m\u001b[0;34m(\u001b[0m\u001b[0mi\u001b[0m\u001b[0;34m)\u001b[0m \u001b[0;32mfor\u001b[0m \u001b[0mi\u001b[0m \u001b[0;32min\u001b[0m \u001b[0minp\u001b[0m\u001b[0;34m]\u001b[0m \u001b[0;31m# see comment at the bottom of the answer\u001b[0m\u001b[0;34m\u001b[0m\u001b[0;34m\u001b[0m\u001b[0m\n\u001b[1;32m     19\u001b[0m \u001b[0;34m\u001b[0m\u001b[0m\n",
      "\u001b[0;31mNameError\u001b[0m: name 'raw_input' is not defined"
     ]
    }
   ],
   "source": [
    "Je n'est pas puis faire des modification car toujours de petites erreurs"
   ]
  },
  {
   "cell_type": "code",
   "execution_count": null,
   "id": "43341bb8",
   "metadata": {},
   "outputs": [],
   "source": []
  }
 ],
 "metadata": {
  "kernelspec": {
   "display_name": "Python 3",
   "language": "python",
   "name": "python3"
  },
  "language_info": {
   "codemirror_mode": {
    "name": "ipython",
    "version": 3
   },
   "file_extension": ".py",
   "mimetype": "text/x-python",
   "name": "python",
   "nbconvert_exporter": "python",
   "pygments_lexer": "ipython3",
   "version": "3.8.8"
  }
 },
 "nbformat": 4,
 "nbformat_minor": 5
}

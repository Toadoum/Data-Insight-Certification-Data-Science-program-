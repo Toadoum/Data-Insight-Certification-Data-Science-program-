{
 "cells": [
  {
   "cell_type": "code",
   "execution_count": 30,
   "id": "416a6380",
   "metadata": {
    "scrolled": true
   },
   "outputs": [
    {
     "name": "stdout",
     "output_type": "stream",
     "text": [
      "Enter a n-digits number please: 2154568400\n",
      "zero: 2\n",
      "even: 5\n",
      "odd: 3\n"
     ]
    }
   ],
   "source": [
    "def digits_count(digits):\n",
    "    \"\"\" Takes a list of single digits and returns the \n",
    "        count of zeros, evens and odds\n",
    "    \"\"\"\n",
    "    zero = 0\n",
    "    even= 0\n",
    "    odd= 0\n",
    "    for i in digits:\n",
    "        if i == 0:\n",
    "            zero += 1\n",
    "        elif i % 2 == 0:\n",
    "            even += 1\n",
    "        else:\n",
    "            odd += 1\n",
    "    return zero, even, odd\n",
    "\n",
    "digit_input = input(\"Enter a n-digits number please: \")\n",
    "digits = [int(i) for i in digit_input] \n",
    "\n",
    "zero, even, odd = digits_count(digits)\n",
    "\n",
    "print('zero: %d' % zero)\n",
    "print('even: %d' % even)\n",
    "print('odd: %d' % odd)"
   ]
  },
  {
   "cell_type": "code",
   "execution_count": 1,
   "id": "f4e1cafd",
   "metadata": {},
   "outputs": [
    {
     "name": "stdout",
     "output_type": "stream",
     "text": [
      "entrer des nombres entier:1256840360\n",
      "Il y a 5 nombre paire, 3 nombre impaire, et 2 zero sur votre entree\n"
     ]
    }
   ],
   "source": [
    "\n",
    "# Programme en python pour compter les nombres paires, impaires et les zero sur le user input\n",
    "# Exemple 1\n",
    "  \n",
    "list2 = input(\"entrer des nombres entier:\")\n",
    "list1 = [int(i) for i in list2]\n",
    " \n",
    "zero_count = 0    \n",
    "even_count = 0\n",
    "odd_count = 0 \n",
    "num = 0\n",
    " \n",
    "while(num < len(list1)):\n",
    "      \n",
    "    if list1[num] == 0:\n",
    "            zero_count += 1\n",
    "    elif list1[num] % 2 == 0:\n",
    "        even_count += 1\n",
    "    else:\n",
    "        odd_count += 1\n",
    "      \n",
    "    num += 1\n",
    "      \n",
    "print(\"Il y a\", even_count, \"nombre paire,\", odd_count, \"nombre impaire,\", \"et\", zero_count, \"zero sur votre entree\" )\n"
   ]
  },
  {
   "cell_type": "code",
   "execution_count": null,
   "id": "1efde6ab",
   "metadata": {},
   "outputs": [],
   "source": []
  },
  {
   "cell_type": "code",
   "execution_count": 1,
   "id": "1cf2d8ed",
   "metadata": {},
   "outputs": [
    {
     "name": "stdout",
     "output_type": "stream",
     "text": [
      "entrer des nombres entier:12503659\n",
      "Il y a 2 nombre paire, 5 nombre impaire, et 1 zero sur votre entree\n"
     ]
    }
   ],
   "source": [
    "\n",
    "# Programme en python pour compter les nombres paires, impaires et les zero sur le user input\n",
    "# Exemple 2\n",
    "  \n",
    "def compteur(list1):\n",
    "    \n",
    "    zero_count = 0    \n",
    "    even_count = 0\n",
    "    odd_count = 0\n",
    "    num = 0\n",
    "    \n",
    "    while(num < len(list1)):\n",
    "        if list1[num] == 0:\n",
    "            zero_count += 1\n",
    "        elif list1[num] % 2 == 0:\n",
    "            even_count += 1\n",
    "        else:\n",
    "            odd_count += 1\n",
    "        num += 1\n",
    "    \n",
    "    return zero_count, even_count, odd_count\n",
    "\n",
    "list2 = input(\"entrer des nombres entier:\")\n",
    "list1 = [int(i) for i in list2]\n",
    "\n",
    "zero_count, even_count, odd_count = compteur(list1)\n",
    "\n",
    "print(\"Il y a\", even_count, \"nombre paire,\", odd_count, \"nombre impaire,\", \"et\", zero_count, \"zero sur votre entree\" )"
   ]
  },
  {
   "cell_type": "code",
   "execution_count": null,
   "id": "284bedfa",
   "metadata": {},
   "outputs": [],
   "source": []
  },
  {
   "cell_type": "code",
   "execution_count": null,
   "id": "19836fb9",
   "metadata": {},
   "outputs": [],
   "source": []
  }
 ],
 "metadata": {
  "kernelspec": {
   "display_name": "Python 3",
   "language": "python",
   "name": "python3"
  },
  "language_info": {
   "codemirror_mode": {
    "name": "ipython",
    "version": 3
   },
   "file_extension": ".py",
   "mimetype": "text/x-python",
   "name": "python",
   "nbconvert_exporter": "python",
   "pygments_lexer": "ipython3",
   "version": "3.8.8"
  }
 },
 "nbformat": 4,
 "nbformat_minor": 5
}

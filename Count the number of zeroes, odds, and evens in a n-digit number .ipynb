{
 "cells": [
  {
   "cell_type": "code",
   "execution_count": 1,
   "id": "416a6380",
   "metadata": {
    "scrolled": true
   },
   "outputs": [
    {
     "name": "stdout",
     "output_type": "stream",
     "text": [
      "Enter a n-digits number please: 021369495970340464277\n",
      "zero: 3\n",
      "even: 8\n",
      "odd: 10\n"
     ]
    }
   ],
   "source": [
    "def digits_count(digits):\n",
    "    \"\"\" Takes a list of single digits and returns the \n",
    "        count of zeros, evens and odds\n",
    "    \"\"\"\n",
    "    zero = 0\n",
    "    even= 0\n",
    "    odd= 0\n",
    "    for i in digits:\n",
    "        if i == 0:\n",
    "            zero += 1\n",
    "        elif i % 2 == 0:\n",
    "            even += 1\n",
    "        else:\n",
    "            odd += 1\n",
    "    return zero, even, odd\n",
    "\n",
    "digit_input = input(\"Enter a n-digits number please: \")\n",
    "digits = [int(i) for i in digit_input] \n",
    "\n",
    "zero, even, odd = digits_count(digits)\n",
    "\n",
    "print('zero: %d' % zero)\n",
    "print('even: %d' % even)\n",
    "print('odd: %d' % odd)"
   ]
  },
  {
   "cell_type": "code",
   "execution_count": null,
   "id": "f4e1cafd",
   "metadata": {},
   "outputs": [],
   "source": []
  }
 ],
 "metadata": {
  "kernelspec": {
   "display_name": "Python 3",
   "language": "python",
   "name": "python3"
  },
  "language_info": {
   "codemirror_mode": {
    "name": "ipython",
    "version": 3
   },
   "file_extension": ".py",
   "mimetype": "text/x-python",
   "name": "python",
   "nbconvert_exporter": "python",
   "pygments_lexer": "ipython3",
   "version": "3.8.8"
  }
 },
 "nbformat": 4,
 "nbformat_minor": 5
}

#Ceci est un commentaire laisser par Moukhtar
